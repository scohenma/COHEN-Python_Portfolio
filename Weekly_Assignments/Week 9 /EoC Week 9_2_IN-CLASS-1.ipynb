{
 "cells": [
  {
   "cell_type": "markdown",
   "metadata": {},
   "source": [
    "# More SQL with SQLite in Python\n",
    "\n",
    "**Note:** Ensure the `sakila.db` file is in your working directory before running the notebook."
   ]
  },
  {
   "cell_type": "code",
   "execution_count": null,
   "metadata": {},
   "outputs": [],
   "source": [
    "import sqlite3\n",
    "import pandas as pd\n",
    "\n",
    "# Set the path to the SQLite database\n",
    "db_path = \"sakila.db\"\n",
    "\n",
    "# Connect to SQLite database\n",
    "conn = sqlite3.connect(db_path)\n",
    "print(\"Connected to SQLite Sakila database!\")"
   ]
  },
  {
   "cell_type": "markdown",
   "metadata": {},
   "source": [
    "### Exploring the Database Schema\n",
    "\n",
    "Before diving into queries, it's useful to know which tables are available in the Sakila database. We'll list all tables by querying the SQLite master table."
   ]
  },
  {
   "cell_type": "code",
   "execution_count": null,
   "metadata": {},
   "outputs": [],
   "source": [
    "# List all tables in the database\n",
    "tables = pd.read_sql(\"\"\"SELECT name \n",
    "                        FROM sqlite_master \n",
    "                        WHERE type='table';\"\"\", conn)\n",
    "\n",
    "print(\"Tables in the database:\")\n",
    "print(tables)"
   ]
  },
  {
   "cell_type": "markdown",
   "metadata": {},
   "source": [
    "## Part 1. Other Operations\n",
    "These operations help you filter numeric data and handle potential NULLs. We’ll use the film table as an example:"
   ]
  },
  {
   "cell_type": "markdown",
   "metadata": {},
   "source": [
    "### BETWEEN Operator\n",
    "Select films where the film length is within a specified range."
   ]
  },
  {
   "cell_type": "code",
   "execution_count": null,
   "metadata": {},
   "outputs": [],
   "source": [
    "# Define SQL query to fetch the first 5 rows from the actor table.\n",
    "query_between = \"\"\"\n",
    "\n",
    "                \"\"\"\n",
    "\n",
    "# Execute the query using pd.read_sql.\n",
    "df_between = pd.read_sql(query_between, conn)\n",
    "\n",
    "print(\"Select films between 80 and 120 minutes:\")\n",
    "print(df_between)"
   ]
  },
  {
   "cell_type": "markdown",
   "metadata": {},
   "source": [
    "### IS NOT NULL Operator\n",
    "Ensure that you only fetch rows with actual (non-null) values."
   ]
  },
  {
   "cell_type": "code",
   "execution_count": null,
   "metadata": {},
   "outputs": [],
   "source": [
    "# Define SQL query to fetch the first 5 rows from the actor table.\n",
    "query_nonnull = \"\"\"\n",
    "\n",
    "                \"\"\"\n",
    "\n",
    "# Execute the query using pd.read_sql.\n",
    "df_nonnull = pd.read_sql(query_nonnull, conn)\n",
    "\n",
    "print(\"Drop rows without descriptions:\")\n",
    "print(df_nonnull)"
   ]
  },
  {
   "cell_type": "markdown",
   "metadata": {},
   "source": [
    "### IN Operator\n",
    "Filter rows by matching a column against a list of values."
   ]
  },
  {
   "cell_type": "code",
   "execution_count": null,
   "metadata": {},
   "outputs": [],
   "source": [
    "# Define SQL query to fetch the first 5 rows from the actor table.\n",
    "query_rating = \"\"\"\n",
    "\n",
    "               \"\"\"\n",
    "\n",
    "# Execute the query using pd.read_sql.\n",
    "df_rating = pd.read_sql(query_rating, conn)\n",
    "\n",
    "print(\"Query of distint count of actors per title and G and PG rated films:\")\n",
    "print(df_rating)"
   ]
  },
  {
   "cell_type": "markdown",
   "metadata": {},
   "source": [
    "## Part 2. Text Operations\n",
    "Use the LIKE operator with wildcards to match text patterns—again, using the `film` table:\n",
    "\n",
    "Using Wildcards with LIKE:\n",
    "\n",
    "- `%` matches zero or more characters.\n",
    "- `_` matches exactly one character."
   ]
  },
  {
   "cell_type": "code",
   "execution_count": null,
   "metadata": {},
   "outputs": [],
   "source": [
    "query_wildcard1 = \"\"\"\n",
    "\n",
    "                  \"\"\"\n",
    "\n",
    "# Execute the query using pd.read_sql.\n",
    "df_wc1 = pd.read_sql(query_wildcard1, conn)\n",
    "\n",
    "print(\"Query films that either start with A or end with s:\")\n",
    "print(df_wc1)"
   ]
  },
  {
   "cell_type": "code",
   "execution_count": null,
   "metadata": {},
   "outputs": [],
   "source": [
    "query_wildcard2 = \"\"\"\n",
    "\n",
    "                  \"\"\"\n",
    "\n",
    "# Execute the query using pd.read_sql.\n",
    "df_wc2 = pd.read_sql(query_wildcard2, conn)\n",
    "\n",
    "print(\"Query films where the second letter is 'a':\")\n",
    "print(df_wc2)"
   ]
  },
  {
   "cell_type": "markdown",
   "metadata": {},
   "source": [
    "# Group Exercises\n",
    "- Find a neighbor, yes, move around and make a new friend!\n",
    "- Work through the following practice exercises together."
   ]
  },
  {
   "cell_type": "markdown",
   "metadata": {},
   "source": [
    "# Partner Practice Exercise\n",
    "\n",
    "Now that we've seen several examples of JOINs and aggregation queries, it's time for you to practice with a partner. Complete the following tasks using the Sakila database:\n",
    "\n",
    "1. **Challenge 1: Short Films with Language**\n",
    "   - Write a query that returns each film’s title, description, and language name (labeled as “language”) from the `film` and `language` tables, for all films with length under 100. Join `film.language_id` to `language.language_id` to retrieve the language name.\n",
    "\n",
    "2. **Challenge 2: Specific Ratings Filter with Language**\n",
    "   - Write a query to display each film’s title, rating, and language name (as “language”) for all films whose rating is either ‘PG-13’ or ‘R.’ Join film.language_id to language.language_id.\n",
    "\n",
    "3. **Challenge 3: Pattern Matching on Film Titles with Category**\n",
    "   - Write a query to list each film’s title and its category name (as “category”) for all films whose title begins with “T” or ends with “s.” Join film to film_category and then to category to retrieve the category name.\n",
    "\n",
    "4. **Challenge 4: Single-Character Wildcard with Actor Join**\n",
    "   - Write a query that lists each film’s title and the actor’s full name (using first_name || ' ' || last_name) for all films whose title has “y” as the second character. Join film, film_actor, and actor on their respective IDs.\n",
    "\n",
    "5. **Challenge 5: Distinct Customer Payments and Rentals**\n",
    "   - Write a query to display each customer’s ID along with the total number of distinct payments and rentals they have made. Use LEFT JOIN with the payment and rental tables, group by the customer, and order by total payments (descending) then total rentals (descending).\n",
    "\n",
    "6. **Challenge 6: Advanced Filtering with Category**\n",
    "   - Write a query that returns each film’s title, rental rate, length, and category (labeled as “category”) for films whose rental rate is between 2.99 and 4.99, rating is either ‘PG’ or ‘R,’ and title starts with “A.” Join film to film_category and category to retrieve the category name.\n",
    "         - HINT: USE `AND` as a dependent clause of your `WHERE` clause to create multiple conditions.\n",
    "         \n",
    "Discuss your approaches with your partner, compare your results, and be ready to review a few solutions as a class."
   ]
  },
  {
   "cell_type": "code",
   "execution_count": null,
   "metadata": {},
   "outputs": [],
   "source": [
    "query_chal1 = \"\"\"\n",
    "\n",
    "              \"\"\"\n",
    "\n",
    "# Execute the query using pd.read_sql.\n",
    "df_chal1 = pd.read_sql(query_chal1, conn)\n",
    "\n",
    "print(\"Challenge 1\")\n",
    "print(df_chal1)"
   ]
  },
  {
   "cell_type": "code",
   "execution_count": null,
   "metadata": {},
   "outputs": [],
   "source": [
    "query_chal2 = \"\"\"\n",
    "             \n",
    "              \"\"\"\n",
    "\n",
    "# Execute the query using pd.read_sql.\n",
    "df_chal2 = pd.read_sql(query_chal2, conn)\n",
    "\n",
    "print(\"Challenge 2\")\n",
    "print(df_chal2)"
   ]
  },
  {
   "cell_type": "code",
   "execution_count": null,
   "metadata": {},
   "outputs": [],
   "source": [
    "query_chal3 = \"\"\"\n",
    "\n",
    "              \"\"\"\n",
    "\n",
    "# Execute the query using pd.read_sql.\n",
    "df_chal3 = pd.read_sql(query_chal3, conn)\n",
    "\n",
    "print(\"Challenge 3\")\n",
    "print(df_chal3)"
   ]
  },
  {
   "cell_type": "code",
   "execution_count": null,
   "metadata": {},
   "outputs": [],
   "source": [
    "query_chal4 = \"\"\"\n",
    "         \n",
    "              \"\"\"\n",
    "\n",
    "# Execute the query using pd.read_sql.\n",
    "df_chal4 = pd.read_sql(query_chal4, conn)\n",
    "\n",
    "print(\"Challenge 4\")\n",
    "print(df_chal4)"
   ]
  },
  {
   "cell_type": "code",
   "execution_count": null,
   "metadata": {},
   "outputs": [],
   "source": [
    "query_chal5 = \"\"\"\n",
    "            \n",
    "              \"\"\"\n",
    "\n",
    "# Execute the query using pd.read_sql.\n",
    "df_chal5 = pd.read_sql(query_chal5, conn)\n",
    "\n",
    "print(\"Challenge 5\")\n",
    "print(df_chal5)"
   ]
  },
  {
   "cell_type": "code",
   "execution_count": null,
   "metadata": {},
   "outputs": [],
   "source": [
    "query_chal6 = \"\"\"\n",
    "        \n",
    "              \"\"\"\n",
    "\n",
    "# Execute the query using pd.read_sql.\n",
    "df_chal6 = pd.read_sql(query_chal6, conn)\n",
    "\n",
    "print(\"Challenge 6\")\n",
    "print(df_chal6)"
   ]
  },
  {
   "cell_type": "markdown",
   "metadata": {},
   "source": [
    "## Close the connection to the database.\n",
    "Always close the connection when you're done to free up resources."
   ]
  },
  {
   "cell_type": "code",
   "execution_count": 14,
   "metadata": {},
   "outputs": [],
   "source": [
    "# Close the connection\n",
    "conn.close()"
   ]
  }
 ],
 "metadata": {
  "kernelspec": {
   "display_name": "base",
   "language": "python",
   "name": "python3"
  },
  "language_info": {
   "codemirror_mode": {
    "name": "ipython",
    "version": 3
   },
   "file_extension": ".py",
   "mimetype": "text/x-python",
   "name": "python",
   "nbconvert_exporter": "python",
   "pygments_lexer": "ipython3",
   "version": "3.12.2"
  }
 },
 "nbformat": 4,
 "nbformat_minor": 2
}
